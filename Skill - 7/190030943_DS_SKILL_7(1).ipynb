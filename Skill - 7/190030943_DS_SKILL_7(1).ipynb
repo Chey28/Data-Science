{
 "cells": [
  {
   "cell_type": "code",
   "execution_count": 3,
   "metadata": {},
   "outputs": [],
   "source": [
    "import pandas as pd"
   ]
  },
  {
   "cell_type": "code",
   "execution_count": 7,
   "metadata": {},
   "outputs": [],
   "source": [
    "list_1 = [['x','12us01','USA',97.2,6.4],['y','12us02','USA',97.4,6.5],\n",
    "          ['z','12us03','USA',98.5,6.2],['p','12us04','USA',98.6,5.9],\n",
    "          ['q','12us05','USA',97.8,5.8],['r','12us06','USA',97.6,5.11],\n",
    "          ['s','12us07','USA',98.6,6.3],['t','12us08','USA',98.9,6.5],\n",
    "          ['u','12us09','USA',99.2,6.7],['v','12us10','USA',99.2,6.6],\n",
    "         ]\n",
    "\n",
    "df1 = pd.DataFrame(list_1,columns = ['Name', 'SSN NO', 'Country', 'Bodytemp_usa','Height_usa'])"
   ]
  },
  {
   "cell_type": "code",
   "execution_count": 8,
   "metadata": {},
   "outputs": [
    {
     "data": {
      "text/html": [
       "<div>\n",
       "<style scoped>\n",
       "    .dataframe tbody tr th:only-of-type {\n",
       "        vertical-align: middle;\n",
       "    }\n",
       "\n",
       "    .dataframe tbody tr th {\n",
       "        vertical-align: top;\n",
       "    }\n",
       "\n",
       "    .dataframe thead th {\n",
       "        text-align: right;\n",
       "    }\n",
       "</style>\n",
       "<table border=\"1\" class=\"dataframe\">\n",
       "  <thead>\n",
       "    <tr style=\"text-align: right;\">\n",
       "      <th></th>\n",
       "      <th>Name</th>\n",
       "      <th>SSN NO</th>\n",
       "      <th>Country</th>\n",
       "      <th>Bodytemp_usa</th>\n",
       "      <th>Height_usa</th>\n",
       "    </tr>\n",
       "  </thead>\n",
       "  <tbody>\n",
       "    <tr>\n",
       "      <th>0</th>\n",
       "      <td>x</td>\n",
       "      <td>12us01</td>\n",
       "      <td>USA</td>\n",
       "      <td>97.2</td>\n",
       "      <td>6.40</td>\n",
       "    </tr>\n",
       "    <tr>\n",
       "      <th>1</th>\n",
       "      <td>y</td>\n",
       "      <td>12us02</td>\n",
       "      <td>USA</td>\n",
       "      <td>97.4</td>\n",
       "      <td>6.50</td>\n",
       "    </tr>\n",
       "    <tr>\n",
       "      <th>2</th>\n",
       "      <td>z</td>\n",
       "      <td>12us03</td>\n",
       "      <td>USA</td>\n",
       "      <td>98.5</td>\n",
       "      <td>6.20</td>\n",
       "    </tr>\n",
       "    <tr>\n",
       "      <th>3</th>\n",
       "      <td>p</td>\n",
       "      <td>12us04</td>\n",
       "      <td>USA</td>\n",
       "      <td>98.6</td>\n",
       "      <td>5.90</td>\n",
       "    </tr>\n",
       "    <tr>\n",
       "      <th>4</th>\n",
       "      <td>q</td>\n",
       "      <td>12us05</td>\n",
       "      <td>USA</td>\n",
       "      <td>97.8</td>\n",
       "      <td>5.80</td>\n",
       "    </tr>\n",
       "    <tr>\n",
       "      <th>5</th>\n",
       "      <td>r</td>\n",
       "      <td>12us06</td>\n",
       "      <td>USA</td>\n",
       "      <td>97.6</td>\n",
       "      <td>5.11</td>\n",
       "    </tr>\n",
       "    <tr>\n",
       "      <th>6</th>\n",
       "      <td>s</td>\n",
       "      <td>12us07</td>\n",
       "      <td>USA</td>\n",
       "      <td>98.6</td>\n",
       "      <td>6.30</td>\n",
       "    </tr>\n",
       "    <tr>\n",
       "      <th>7</th>\n",
       "      <td>t</td>\n",
       "      <td>12us08</td>\n",
       "      <td>USA</td>\n",
       "      <td>98.9</td>\n",
       "      <td>6.50</td>\n",
       "    </tr>\n",
       "    <tr>\n",
       "      <th>8</th>\n",
       "      <td>u</td>\n",
       "      <td>12us09</td>\n",
       "      <td>USA</td>\n",
       "      <td>99.2</td>\n",
       "      <td>6.70</td>\n",
       "    </tr>\n",
       "    <tr>\n",
       "      <th>9</th>\n",
       "      <td>v</td>\n",
       "      <td>12us10</td>\n",
       "      <td>USA</td>\n",
       "      <td>99.2</td>\n",
       "      <td>6.60</td>\n",
       "    </tr>\n",
       "  </tbody>\n",
       "</table>\n",
       "</div>"
      ],
      "text/plain": [
       "  Name  SSN NO Country  Bodytemp_usa  Height_usa\n",
       "0    x  12us01     USA          97.2        6.40\n",
       "1    y  12us02     USA          97.4        6.50\n",
       "2    z  12us03     USA          98.5        6.20\n",
       "3    p  12us04     USA          98.6        5.90\n",
       "4    q  12us05     USA          97.8        5.80\n",
       "5    r  12us06     USA          97.6        5.11\n",
       "6    s  12us07     USA          98.6        6.30\n",
       "7    t  12us08     USA          98.9        6.50\n",
       "8    u  12us09     USA          99.2        6.70\n",
       "9    v  12us10     USA          99.2        6.60"
      ]
     },
     "execution_count": 8,
     "metadata": {},
     "output_type": "execute_result"
    }
   ],
   "source": [
    "df1"
   ]
  },
  {
   "cell_type": "code",
   "execution_count": 17,
   "metadata": {},
   "outputs": [],
   "source": [
    "list_2 = [['A','15ind01','IND',98.4,5.8],['B','15ind02','IND',98.4,5.7],\n",
    "          ['C','15ind03','IND',97.8,5.5],['D','15ind04','IND',98.6,5.4],\n",
    "          ['E','15ind05','IND',97.8,5.6],['F','15ind06','IND',98.6,6.2],\n",
    "          ['G','15ind07','IND',98.6,6.1],['H','15ind08','IND',98.8,5.10],\n",
    "          ['I','15ind10','IND',99.6,5.6],['J','15ind10','IND',98.8,5.4],\n",
    "         ]\n",
    "\n",
    "df2 = pd.DataFrame(list_2,columns = ['Name', 'SSN NO', 'Country', 'Bodytemp_india','Height_india'])"
   ]
  },
  {
   "cell_type": "code",
   "execution_count": 18,
   "metadata": {},
   "outputs": [
    {
     "data": {
      "text/html": [
       "<div>\n",
       "<style scoped>\n",
       "    .dataframe tbody tr th:only-of-type {\n",
       "        vertical-align: middle;\n",
       "    }\n",
       "\n",
       "    .dataframe tbody tr th {\n",
       "        vertical-align: top;\n",
       "    }\n",
       "\n",
       "    .dataframe thead th {\n",
       "        text-align: right;\n",
       "    }\n",
       "</style>\n",
       "<table border=\"1\" class=\"dataframe\">\n",
       "  <thead>\n",
       "    <tr style=\"text-align: right;\">\n",
       "      <th></th>\n",
       "      <th>Name</th>\n",
       "      <th>SSN NO</th>\n",
       "      <th>Country</th>\n",
       "      <th>Bodytemp_india</th>\n",
       "      <th>Height_india</th>\n",
       "    </tr>\n",
       "  </thead>\n",
       "  <tbody>\n",
       "    <tr>\n",
       "      <th>0</th>\n",
       "      <td>A</td>\n",
       "      <td>15ind01</td>\n",
       "      <td>IND</td>\n",
       "      <td>98.4</td>\n",
       "      <td>5.8</td>\n",
       "    </tr>\n",
       "    <tr>\n",
       "      <th>1</th>\n",
       "      <td>B</td>\n",
       "      <td>15ind02</td>\n",
       "      <td>IND</td>\n",
       "      <td>98.4</td>\n",
       "      <td>5.7</td>\n",
       "    </tr>\n",
       "    <tr>\n",
       "      <th>2</th>\n",
       "      <td>C</td>\n",
       "      <td>15ind03</td>\n",
       "      <td>IND</td>\n",
       "      <td>97.8</td>\n",
       "      <td>5.5</td>\n",
       "    </tr>\n",
       "    <tr>\n",
       "      <th>3</th>\n",
       "      <td>D</td>\n",
       "      <td>15ind04</td>\n",
       "      <td>IND</td>\n",
       "      <td>98.6</td>\n",
       "      <td>5.4</td>\n",
       "    </tr>\n",
       "    <tr>\n",
       "      <th>4</th>\n",
       "      <td>E</td>\n",
       "      <td>15ind05</td>\n",
       "      <td>IND</td>\n",
       "      <td>97.8</td>\n",
       "      <td>5.6</td>\n",
       "    </tr>\n",
       "    <tr>\n",
       "      <th>5</th>\n",
       "      <td>F</td>\n",
       "      <td>15ind06</td>\n",
       "      <td>IND</td>\n",
       "      <td>98.6</td>\n",
       "      <td>6.2</td>\n",
       "    </tr>\n",
       "    <tr>\n",
       "      <th>6</th>\n",
       "      <td>G</td>\n",
       "      <td>15ind07</td>\n",
       "      <td>IND</td>\n",
       "      <td>98.6</td>\n",
       "      <td>6.1</td>\n",
       "    </tr>\n",
       "    <tr>\n",
       "      <th>7</th>\n",
       "      <td>H</td>\n",
       "      <td>15ind08</td>\n",
       "      <td>IND</td>\n",
       "      <td>98.8</td>\n",
       "      <td>5.1</td>\n",
       "    </tr>\n",
       "    <tr>\n",
       "      <th>8</th>\n",
       "      <td>I</td>\n",
       "      <td>15ind10</td>\n",
       "      <td>IND</td>\n",
       "      <td>99.6</td>\n",
       "      <td>5.6</td>\n",
       "    </tr>\n",
       "    <tr>\n",
       "      <th>9</th>\n",
       "      <td>J</td>\n",
       "      <td>15ind10</td>\n",
       "      <td>IND</td>\n",
       "      <td>98.8</td>\n",
       "      <td>5.4</td>\n",
       "    </tr>\n",
       "  </tbody>\n",
       "</table>\n",
       "</div>"
      ],
      "text/plain": [
       "  Name   SSN NO Country  Bodytemp_india  Height_india\n",
       "0    A  15ind01     IND            98.4           5.8\n",
       "1    B  15ind02     IND            98.4           5.7\n",
       "2    C  15ind03     IND            97.8           5.5\n",
       "3    D  15ind04     IND            98.6           5.4\n",
       "4    E  15ind05     IND            97.8           5.6\n",
       "5    F  15ind06     IND            98.6           6.2\n",
       "6    G  15ind07     IND            98.6           6.1\n",
       "7    H  15ind08     IND            98.8           5.1\n",
       "8    I  15ind10     IND            99.6           5.6\n",
       "9    J  15ind10     IND            98.8           5.4"
      ]
     },
     "execution_count": 18,
     "metadata": {},
     "output_type": "execute_result"
    }
   ],
   "source": [
    "df2"
   ]
  },
  {
   "cell_type": "code",
   "execution_count": 19,
   "metadata": {},
   "outputs": [
    {
     "data": {
      "text/plain": [
       "0.5511111111111116"
      ]
     },
     "execution_count": 19,
     "metadata": {},
     "output_type": "execute_result"
    }
   ],
   "source": [
    "df1['Bodytemp_usa'].var()"
   ]
  },
  {
   "cell_type": "code",
   "execution_count": 20,
   "metadata": {},
   "outputs": [
    {
     "data": {
      "text/plain": [
       "0.26711111111110974"
      ]
     },
     "execution_count": 20,
     "metadata": {},
     "output_type": "execute_result"
    }
   ],
   "source": [
    "df2['Bodytemp_india'].var()"
   ]
  },
  {
   "cell_type": "code",
   "execution_count": 28,
   "metadata": {},
   "outputs": [
    {
     "data": {
      "text/plain": [
       "1.227111111111105"
      ]
     },
     "execution_count": 28,
     "metadata": {},
     "output_type": "execute_result"
    }
   ],
   "source": [
    "bodytemp = df1['Bodytemp_usa'] + df2['Bodytemp_india']\n",
    "bodytemp.var()"
   ]
  },
  {
   "cell_type": "code",
   "execution_count": 25,
   "metadata": {},
   "outputs": [
    {
     "data": {
      "text/plain": [
       "0.10933333333333334"
      ]
     },
     "execution_count": 25,
     "metadata": {},
     "output_type": "execute_result"
    }
   ],
   "source": [
    "df2['Height_india'].var()"
   ]
  },
  {
   "cell_type": "code",
   "execution_count": 26,
   "metadata": {},
   "outputs": [
    {
     "data": {
      "text/plain": [
       "0.2308988888888888"
      ]
     },
     "execution_count": 26,
     "metadata": {},
     "output_type": "execute_result"
    }
   ],
   "source": [
    "df1['Height_usa'].var()"
   ]
  },
  {
   "cell_type": "code",
   "execution_count": 27,
   "metadata": {},
   "outputs": [
    {
     "data": {
      "text/plain": [
       "0.18369888888888872"
      ]
     },
     "execution_count": 27,
     "metadata": {},
     "output_type": "execute_result"
    }
   ],
   "source": [
    "height = df2['Height_india'] + df1['Height_usa']\n",
    "height.var()"
   ]
  },
  {
   "cell_type": "code",
   "execution_count": null,
   "metadata": {},
   "outputs": [],
   "source": []
  }
 ],
 "metadata": {
  "kernelspec": {
   "display_name": "Python 3",
   "language": "python",
   "name": "python3"
  },
  "language_info": {
   "codemirror_mode": {
    "name": "ipython",
    "version": 3
   },
   "file_extension": ".py",
   "mimetype": "text/x-python",
   "name": "python",
   "nbconvert_exporter": "python",
   "pygments_lexer": "ipython3",
   "version": "3.8.5"
  }
 },
 "nbformat": 4,
 "nbformat_minor": 4
}
